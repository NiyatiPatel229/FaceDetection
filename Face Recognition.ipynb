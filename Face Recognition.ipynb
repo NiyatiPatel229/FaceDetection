{
 "cells": [
  {
   "cell_type": "code",
   "execution_count": 1,
   "id": "0cf97657-086e-4641-9bab-b04b6a090a87",
   "metadata": {},
   "outputs": [],
   "source": [
    "import os\n",
    "import cv2 as cv\n",
    "import numpy as np"
   ]
  },
  {
   "cell_type": "code",
   "execution_count": 2,
   "id": "a72dca5e-5b3e-4f63-8834-92d31cec3dcf",
   "metadata": {},
   "outputs": [],
   "source": [
    "people = ['Ben Afflek', 'Elton John', 'Jerry Seinfield', 'Madonna', 'Mindy Kaling']\n",
    "DIR = r'Downloads/opencv-course-master/Resources/Faces/train'"
   ]
  },
  {
   "cell_type": "code",
   "execution_count": 6,
   "id": "51fbca57-7a9d-4f77-a72d-4efd56961ebd",
   "metadata": {},
   "outputs": [],
   "source": [
    "haar_cascade = cv.CascadeClassifier('haar_face.xml')\n",
    "\n",
    "features = []\n",
    "labels = []"
   ]
  },
  {
   "cell_type": "markdown",
   "id": "fed7419d-5e5b-4ec0-901b-d3f5ea338e17",
   "metadata": {},
   "source": [
    "# Training"
   ]
  },
  {
   "cell_type": "code",
   "execution_count": 7,
   "id": "aa4ef1cb-c934-41bb-b278-1866d07183ec",
   "metadata": {},
   "outputs": [],
   "source": [
    "features = []\n",
    "labels = []\n",
    "\n",
    "def create_train():\n",
    "    for person in people:\n",
    "        path = os.path.join(DIR, person)\n",
    "        label = people.index(person)\n",
    "\n",
    "        for img in os.listdir(path):\n",
    "            img_path = os.path.join(path,img)\n",
    "\n",
    "            img_array = cv.imread(img_path)\n",
    "            if img_array is None:\n",
    "                continue \n",
    "                \n",
    "            gray = cv.cvtColor(img_array, cv.COLOR_BGR2GRAY)\n",
    "            faces_rect = haar_cascade.detectMultiScale(gray, scaleFactor=1.1, minNeighbors=4)\n",
    "\n",
    "            for (x,y,w,h) in faces_rect:\n",
    "                faces_roi = gray[y:y+h, x:x+w]\n",
    "                features.append(faces_roi)\n",
    "                labels.append(label)"
   ]
  },
  {
   "cell_type": "code",
   "execution_count": 8,
   "id": "620d99b5-68b7-4dc7-9ed6-00783cf696f2",
   "metadata": {},
   "outputs": [
    {
     "name": "stdout",
     "output_type": "stream",
     "text": [
      "Training done ---------------\n"
     ]
    }
   ],
   "source": [
    "create_train()\n",
    "print('Training done ---------------')"
   ]
  },
  {
   "cell_type": "code",
   "execution_count": 9,
   "id": "4780b65a-f698-44ff-ad4b-3db3c5188213",
   "metadata": {},
   "outputs": [],
   "source": [
    "features = np.array(features, dtype='object')\n",
    "labels = np.array(labels)"
   ]
  },
  {
   "cell_type": "code",
   "execution_count": 10,
   "id": "9d0726cd-80fd-4227-97d4-73351572ae78",
   "metadata": {},
   "outputs": [],
   "source": [
    "face_recognizer = cv.face.LBPHFaceRecognizer_create()"
   ]
  },
  {
   "cell_type": "code",
   "execution_count": 11,
   "id": "fb06f049-9483-4390-801e-6ab96f6dfc40",
   "metadata": {},
   "outputs": [],
   "source": [
    "# Train the Recognizer on the features list and the labels list\n",
    "face_recognizer.train(features,labels)"
   ]
  },
  {
   "cell_type": "code",
   "execution_count": 12,
   "id": "40ecc610-5008-4ab3-b8d4-093ce29e81e8",
   "metadata": {},
   "outputs": [],
   "source": [
    "face_recognizer.save('face_trained.yml')\n",
    "np.save('features.npy', features)\n",
    "np.save('labels.npy', labels)"
   ]
  },
  {
   "cell_type": "markdown",
   "id": "b58c324a-ed14-4519-ba8f-93259efe8908",
   "metadata": {},
   "source": [
    "# Face recognition"
   ]
  },
  {
   "cell_type": "code",
   "execution_count": 2,
   "id": "42dee475-3125-4e3e-bf80-c18672653440",
   "metadata": {},
   "outputs": [],
   "source": [
    "haar_cascade = cv.CascadeClassifier('haar_face.xml')"
   ]
  },
  {
   "cell_type": "code",
   "execution_count": 3,
   "id": "cb4cec86-2d6f-4ae0-aff4-6aaf3b68951a",
   "metadata": {},
   "outputs": [],
   "source": [
    "people = ['Ben Afflek', 'Elton John', 'Jerry Seinfield', 'Madonna', 'Mindy Kaling']"
   ]
  },
  {
   "cell_type": "code",
   "execution_count": 4,
   "id": "00de326f-5611-4a97-aad3-c54d1427f3e5",
   "metadata": {},
   "outputs": [],
   "source": [
    "# features = np.load('features.npy', allow_pickle=True)\n",
    "# labels = np.load('labels.npy')"
   ]
  },
  {
   "cell_type": "code",
   "execution_count": 5,
   "id": "8127e164-fb3d-4cc7-9e35-6725dff6ca56",
   "metadata": {},
   "outputs": [],
   "source": [
    "face_recognizer = cv.face.LBPHFaceRecognizer_create()\n",
    "face_recognizer.read('face_trained.yml')"
   ]
  },
  {
   "cell_type": "code",
   "execution_count": 13,
   "id": "43257fe3-b6a1-4339-8888-8ef6a0ee1217",
   "metadata": {},
   "outputs": [],
   "source": [
    "img = cv.imread(r'Downloads/opencv-course-master/Resources/Faces/val/madonna/3.jpg')"
   ]
  },
  {
   "cell_type": "code",
   "execution_count": 14,
   "id": "041654c1-f3cd-4151-b5f6-979e415bc6fa",
   "metadata": {},
   "outputs": [],
   "source": [
    "gray = cv.cvtColor(img, cv.COLOR_BGR2GRAY)\n",
    "cv.imshow('Person', gray)"
   ]
  },
  {
   "cell_type": "code",
   "execution_count": 15,
   "id": "7a3030cc-9431-47b5-aa16-efdf41673b24",
   "metadata": {},
   "outputs": [],
   "source": [
    "# Detect the face in the image\n",
    "faces_rect = haar_cascade.detectMultiScale(gray, 1.1, 4)"
   ]
  },
  {
   "cell_type": "code",
   "execution_count": 16,
   "id": "0af7da77-540a-4061-be90-a825e855db4c",
   "metadata": {},
   "outputs": [
    {
     "name": "stdout",
     "output_type": "stream",
     "text": [
      "Label = Madonna with a confidence of 78.75449489280508\n"
     ]
    }
   ],
   "source": [
    "for (x,y,w,h) in faces_rect:\n",
    "    faces_roi = gray[y:y+h,x:x+w]\n",
    "\n",
    "    label, confidence = face_recognizer.predict(faces_roi)\n",
    "    print(f'Label = {people[label]} with a confidence of {confidence}')\n",
    "\n",
    "    cv.putText(img, str(people[label]), (20,20), cv.FONT_HERSHEY_COMPLEX, 1.0, (0,255,0), thickness=2)\n",
    "    cv.rectangle(img, (x,y), (x+w,y+h), (0,255,0), thickness=2)\n",
    "    if cv.waitKey(1) & 0xFF == ord('q'):\n",
    "       break"
   ]
  },
  {
   "cell_type": "code",
   "execution_count": null,
   "id": "c429b75b-56f9-46ab-aa07-57c0480b740b",
   "metadata": {},
   "outputs": [],
   "source": [
    "cv.imshow('Detected Face', img)\n",
    "cv.waitKey(0)"
   ]
  },
  {
   "cell_type": "code",
   "execution_count": null,
   "id": "1e77f3f7-479d-4bfb-b6c2-4541956c003d",
   "metadata": {},
   "outputs": [],
   "source": []
  }
 ],
 "metadata": {
  "kernelspec": {
   "display_name": "Python 3 (ipykernel)",
   "language": "python",
   "name": "python3"
  },
  "language_info": {
   "codemirror_mode": {
    "name": "ipython",
    "version": 3
   },
   "file_extension": ".py",
   "mimetype": "text/x-python",
   "name": "python",
   "nbconvert_exporter": "python",
   "pygments_lexer": "ipython3",
   "version": "3.10.10"
  }
 },
 "nbformat": 4,
 "nbformat_minor": 5
}
